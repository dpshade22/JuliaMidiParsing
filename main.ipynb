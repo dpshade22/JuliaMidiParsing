{
 "cells": [
  {
   "cell_type": "code",
   "execution_count": 178,
   "metadata": {},
   "outputs": [],
   "source": [
    "using MIDI, CSV, DataFrames, StatsBase"
   ]
  },
  {
   "cell_type": "code",
   "execution_count": null,
   "metadata": {},
   "outputs": [],
   "source": [
    "function find_midi_files(directory::String)\n",
    "    # Get a list of all the files and directories in the directory\n",
    "    items = readdir(directory)\n",
    "\n",
    "    # Initialize an empty vector to store the MIDI files\n",
    "    midi_files = Vector{String}()\n",
    "\n",
    "    # Loop through each item in the directory\n",
    "    for item in items\n",
    "        # Get the full path to the item\n",
    "        item_path = joinpath(directory, item)\n",
    "\n",
    "        # If the item is a directory, recursively search it for MIDI files\n",
    "        if isdir(item_path)\n",
    "            midi_files = vcat(midi_files, find_midi_files(item_path))\n",
    "        # If the item is a MIDI file, add it to the list\n",
    "        elseif endswith(item, \".mid\") || endswith(item, \".midi\")\n",
    "            push!(midi_files, item_path)\n",
    "        end\n",
    "    end\n",
    "\n",
    "    # Return the list of MIDI files\n",
    "    return midi_files\n",
    "end"
   ]
  },
  {
   "cell_type": "code",
   "execution_count": null,
   "metadata": {},
   "outputs": [],
   "source": [
    "function parse_midi_files(midi_dir::String, output_dir::String)\n",
    "    # Get a list of all the MIDI files in the directory\n",
    "    midi_files = find_midi_files(midi_dir)\n",
    "    # Loop through the MIDI files and parse them\n",
    "    for midi_file in midi_files\n",
    "        # Parse the MIDI file\n",
    "        midi_data = load(midi_file)\n",
    "\n",
    "        # Initialize empty vectors to store the parsed data\n",
    "        track = midi_data.tracks[2]\n",
    "\n",
    "        notes = getnotes(track)\n",
    "        noteNames = []\n",
    "        velocities = []\n",
    "        times = []\n",
    "\n",
    "        # Loop through the MIDI events and extract the relevant data\n",
    "        for note in notes\n",
    "            push!(noteNames, note.pitch)\n",
    "            push!(velocities, note.velocity)\n",
    "            push!(times, note.duration)\n",
    "        end\n",
    "        \n",
    "        # Construct a DataFrame from the parsed data\n",
    "        df = DataFrame(\n",
    "            note=noteNames,\n",
    "            velocity=velocities,\n",
    "            time=times\n",
    "        )\n",
    "\n",
    "        # Write the DataFrame to a CSV file\n",
    "        csv_file = joinpath(output_dir, replace(basename(midi_file), \".mid\" => \".csv\"))\n",
    "        CSV.write(csv_file, df)\n",
    "    end\n",
    "end\n"
   ]
  },
  {
   "cell_type": "code",
   "execution_count": null,
   "metadata": {},
   "outputs": [],
   "source": [
    "@time parse_midi_files(\"midiData\", \"csvData\")"
   ]
  },
  {
   "cell_type": "code",
   "execution_count": null,
   "metadata": {},
   "outputs": [],
   "source": [
    "function reconstruct_midi_file(csv_file::String, midi_file::String)\n",
    "    # Read the CSV file into a DataFrame\n",
    "    df = CSV.read(csv_file, DataFrame)\n",
    "\n",
    "    # Convert the parsed data into Note objects\n",
    "    notes = Notes()\n",
    "    time = 0\n",
    "    for i in 1:size(df, 1)\n",
    "        # Calculate the time since the last MIDI event\n",
    "        delta_time = round(Int, df.time[i])\n",
    "\n",
    "        # Create a Note object for the note-on event\n",
    "        note = Note(df.note[i], df.velocity[i], time, delta_time)\n",
    "        push!(notes, note)\n",
    "\n",
    "        # Update the time counter\n",
    "        time += delta_time\n",
    "    end\n",
    "\n",
    "    # Create a MIDI track from the Note objects\n",
    "    track = MIDITrack()\n",
    "    addnotes!(track, notes)\n",
    "    addtrackname!(track, \"reconstructed track\")\n",
    "\n",
    "    # Create a MIDI file from the track\n",
    "    file = MIDIFile()\n",
    "    push!(file.tracks, track)\n",
    "    writeMIDIFile(midi_file, file)\n",
    "end\n"
   ]
  },
  {
   "cell_type": "code",
   "execution_count": null,
   "metadata": {},
   "outputs": [],
   "source": [
    "reconstruct_midi_file(\"csvData/alb_esp1.csv\", \"reconstructed.mid\")"
   ]
  },
  {
   "cell_type": "code",
   "execution_count": 181,
   "metadata": {},
   "outputs": [
    {
     "data": {
      "text/plain": [
       "add_synthetic_anomalies (generic function with 3 methods)"
      ]
     },
     "metadata": {},
     "output_type": "display_data"
    }
   ],
   "source": [
    "function add_synthetic_anomalies(csv_file::String, anomaly_percentage::Float64)\n",
    "    # Load the CSV file into a DataFrame\n",
    "    df = CSV.read(csv_file, DataFrame)\n",
    "\n",
    "    # Add a column to track anomalies\n",
    "    df.anomalies = zeros(Int64, size(df, 1))\n",
    "    df.anomalyChange = [\"\" for i in 1:size(df, 1)]\n",
    "\n",
    "    # Generate a matrix of deviations for each row\n",
    "    num_anomalies = round(Int, size(df, 1) * anomaly_percentage)\n",
    "    deviations = zeros(num_anomalies, size(df, 2))\n",
    "    deviations[:, 1] .= rand(-14:14, num_anomalies)\n",
    "    deviations[:, 2] .= rand(vcat(-40:-20, 20:40), num_anomalies)\n",
    "    deviations[:, 3] .= rand(vcat(-500:-50, 50:500), num_anomalies)\n",
    "    \n",
    "    println(deviations)\n",
    "    # Choose random rows to modify\n",
    "    indices = sample(1:size(df, 1), num_anomalies, replace=false)\n",
    "\n",
    "    # Apply the deviations to the selected rows using broadcasting\n",
    "    df[indices, :] .= df[indices, :] .+ deviations\n",
    "\n",
    "    # Set the anomalies column of the chosen rows to 1\n",
    "    df.anomalies[indices] .= 1\n",
    "\n",
    "    # Clamp the values between 0 and 127\n",
    "    df[!, :] = clamp.(df, 0, 127)\n",
    "\n",
    "    # Write the DataFrame to the anomalous directory\n",
    "    csv_file_name = splitdir(csv_file)[2]\n",
    "    csv_output_file = joinpath(\"anomalous\", csv_file_name)\n",
    "    CSV.write(csv_output_file, df)\n",
    "end"
   ]
  },
  {
   "cell_type": "code",
   "execution_count": 182,
   "metadata": {},
   "outputs": [],
   "source": [
    "csv_files = readdir(\"csvData\")\n",
    "for csv_file in csv_files\n",
    "    add_synthetic_anomalies(joinpath(\"csvData\", csv_file), 0.5)\n",
    "end\n"
   ]
  }
 ],
 "metadata": {
  "kernelspec": {
   "display_name": "Julia 1.8.5",
   "language": "julia",
   "name": "julia-1.8"
  },
  "language_info": {
   "file_extension": ".jl",
   "mimetype": "application/julia",
   "name": "julia",
   "version": "1.8.5"
  },
  "orig_nbformat": 4
 },
 "nbformat": 4,
 "nbformat_minor": 2
}
