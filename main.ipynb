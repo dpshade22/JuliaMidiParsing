{
 "cells": [
  {
   "cell_type": "code",
   "execution_count": 40,
   "metadata": {},
   "outputs": [],
   "source": [
    "using MIDI, CSV, DataFrames, StatsBase, DataFramesMeta"
   ]
  },
  {
   "cell_type": "code",
   "execution_count": 41,
   "metadata": {},
   "outputs": [
    {
     "data": {
      "text/plain": [
       "find_midi_files (generic function with 1 method)"
      ]
     },
     "metadata": {},
     "output_type": "display_data"
    }
   ],
   "source": [
    "function find_midi_files(directory::String)\n",
    "    # Get a list of all the files and directories in the directory\n",
    "    items = readdir(directory)\n",
    "\n",
    "    # Initialize an empty vector to store the MIDI files\n",
    "    midi_files = Vector{String}()\n",
    "\n",
    "    # Loop through each item in the directory\n",
    "    for item in items\n",
    "        # Get the full path to the item\n",
    "        item_path = joinpath(directory, item)\n",
    "\n",
    "        # If the item is a directory, recursively search it for MIDI files\n",
    "        if isdir(item_path)\n",
    "            midi_files = vcat(midi_files, find_midi_files(item_path))\n",
    "        # If the item is a MIDI file, add it to the list\n",
    "        elseif endswith(item, \".mid\") || endswith(item, \".midi\")\n",
    "            push!(midi_files, item_path)\n",
    "        end\n",
    "    end\n",
    "\n",
    "    # Return the list of MIDI files\n",
    "    return midi_files\n",
    "end"
   ]
  },
  {
   "cell_type": "code",
   "execution_count": 42,
   "metadata": {},
   "outputs": [
    {
     "data": {
      "text/plain": [
       "parse_midi_files (generic function with 1 method)"
      ]
     },
     "metadata": {},
     "output_type": "display_data"
    }
   ],
   "source": [
    "function parse_midi_files(midi_dir::String, output_dir::String)\n",
    "    # Get a list of all the MIDI files in the directory\n",
    "    midi_files = find_midi_files(midi_dir)\n",
    "    # Loop through the MIDI files and parse them\n",
    "    for midi_file in midi_files\n",
    "        # Parse the MIDI file\n",
    "        midi_data = load(midi_file)\n",
    "\n",
    "        # Initialize empty vectors to store the parsed data\n",
    "        track = midi_data.tracks[2]\n",
    "\n",
    "        notes = getnotes(track)\n",
    "        noteNames = []\n",
    "        velocities = []\n",
    "        times = []\n",
    "\n",
    "        # Loop through the MIDI events and extract the relevant data\n",
    "        for note in notes\n",
    "            push!(noteNames, note.pitch)\n",
    "            push!(velocities, note.velocity)\n",
    "            push!(times, note.duration)\n",
    "        end\n",
    "        \n",
    "        # Construct a DataFrame from the parsed data\n",
    "        df = DataFrame(\n",
    "            note=noteNames,\n",
    "            velocity=velocities,\n",
    "            time=times\n",
    "        )\n",
    "\n",
    "        # Write the DataFrame to a CSV file\n",
    "        csv_file = joinpath(output_dir, replace(basename(midi_file), \".mid\" => \".csv\"))\n",
    "        CSV.write(csv_file, df)\n",
    "    end\n",
    "end\n"
   ]
  },
  {
   "cell_type": "code",
   "execution_count": 43,
   "metadata": {},
   "outputs": [],
   "source": [
    "@time parse_midi_files(\"midiData\", \"csvData\")"
   ]
  },
  {
   "cell_type": "code",
   "execution_count": 44,
   "metadata": {},
   "outputs": [
    {
     "data": {
      "text/plain": [
       "reconstruct_midi_file (generic function with 1 method)"
      ]
     },
     "metadata": {},
     "output_type": "display_data"
    }
   ],
   "source": [
    "function reconstruct_midi_file(csv_file::String, midi_file::String)\n",
    "    # Read the CSV file into a DataFrame\n",
    "    df = CSV.read(csv_file, DataFrame)\n",
    "\n",
    "    # Convert the parsed data into Note objects\n",
    "    notes = Notes()\n",
    "    time = 0\n",
    "    for i in 1:size(df, 1)\n",
    "        # Calculate the time since the last MIDI event\n",
    "        delta_time = round(Int, df.time[i])\n",
    "\n",
    "        # Create a Note object for the note-on event\n",
    "        note = Note(df.note[i], df.velocity[i], time, delta_time)\n",
    "        push!(notes, note)\n",
    "\n",
    "        # Update the time counter\n",
    "        time += delta_time\n",
    "    end\n",
    "\n",
    "    # Create a MIDI track from the Note objects\n",
    "    track = MIDITrack()\n",
    "    addnotes!(track, notes)\n",
    "    addtrackname!(track, \"reconstructed track\")\n",
    "\n",
    "    # Create a MIDI file from the track\n",
    "    file = MIDIFile()\n",
    "    push!(file.tracks, track)\n",
    "    writeMIDIFile(midi_file, file)\n",
    "end\n"
   ]
  },
  {
   "cell_type": "code",
   "execution_count": 45,
   "metadata": {},
   "outputs": [
    {
     "data": {
      "text/plain": [
       "MIDIFile (format=1, tpq=960) with tracks:\n",
       " reconstructed track\n"
      ]
     },
     "metadata": {},
     "output_type": "display_data"
    }
   ],
   "source": [
    "reconstruct_midi_file(\"csvData/alb_esp1.csv\", \"reconstructed.mid\")"
   ]
  },
  {
   "cell_type": "code",
   "execution_count": 56,
   "metadata": {},
   "outputs": [
    {
     "ename": "ErrorException",
     "evalue": "syntax: invalid escape sequence",
     "output_type": "error",
     "traceback": [
      "syntax: invalid escape sequence\n",
      "\n",
      "Stacktrace:\n",
      " [1] top-level scope\n",
      "   @ ~/Developer/julia/main.ipynb:36"
     ]
    }
   ],
   "source": [
    "function add_synthetic_anomalies(csv_file::String, anomaly_percentage::Float64)\n",
    "    # Load the CSV file into a DataFrame\n",
    "    df = CSV.read(csv_file, DataFrame)\n",
    "\n",
    "    # Add a column to track anomalies\n",
    "    df.anomalies = zeros(Int64, size(df, 1))\n",
    "    \n",
    "    # Generate a matrix of deviations for each row\n",
    "    num_anomalies = round(Int, size(df, 1) * anomaly_percentage)\n",
    "    deviations = zeros(size(df))\n",
    "\n",
    "    indices = sample(1:size(df, 1), num_anomalies, replace=false)\n",
    "\n",
    "    # Generate random values for each column with the specified probability distributions\n",
    "    for idx in indices\n",
    "        deviations[idx, 1] = rand(vcat(-14:14, zeros(28)))\n",
    "        deviations[idx, 2] = rand(vcat(-40:-20, zeros(40), 20:40))\n",
    "        deviations[idx, 3] = rand(vcat(-500:-50, zeros(900), 50:500))\n",
    "    end\n",
    "\n",
    "    # Apply the deviations to the selected rows using broadcasting\n",
    "    df[indices, :] .= df[indices, :] .+ deviations[indices, :]\n",
    "\n",
    "    # Use the map function to count non-zero elements in each row of the selected indices of deviations\n",
    "    non_zero_counts = [length(findall(!iszero, row)) for row in eachrow(deviations[indices, :])]\n",
    "\n",
    "\n",
    "    # Assign the non_zero_counts to the anomalies column of the df DataFrame at the specified indices\n",
    "\n",
    "    df.anomalies[indices] .= non_zero_counts    \n",
    "    # Clamp the values between 0 and 127\n",
    "    df[!, :] = clamp.(df, 0, 127)\n",
    "\n",
    "    # Write the DataFrame to the anomalous directory\n",
    "    csv_file_name = splitdir(csv_file)[end][1:end-4]\n",
    "    csv_output_file = joinpath(\"anomalous\", \"$csv_file_name\" * \"_\" * \"$anomaly_percentage.csv\")\n",
    "\n",
    "    CSV.write(csv_output_file, df)\n",
    "end"
   ]
  },
  {
   "cell_type": "code",
   "execution_count": 55,
   "metadata": {},
   "outputs": [
    {
     "ename": "InterruptException",
     "evalue": "InterruptException:",
     "output_type": "error",
     "traceback": [
      "InterruptException:\n",
      "\n",
      "Stacktrace:\n",
      " [1] open(fname::String; lock::Bool, read::Nothing, write::Nothing, create::Nothing, truncate::Bool, append::Nothing)\n",
      "   @ Base ./iostream.jl:293\n",
      " [2] open(fname::String, mode::String; lock::Bool)\n",
      "   @ Base ./iostream.jl:356\n",
      " [3] open(fname::String, mode::String)\n",
      "   @ Base ./iostream.jl:355\n",
      " [4] with(f::CSV.var\"#103#104\"{Bool, Bool, Tables.Schema{(:note, :velocity, :time, :anomalies), NTuple{4, Int64}}, DataFrames.DataFrameRows{DataFrame}, CSV.Options{UInt8, UInt8, Nothing, Tuple{}, typeof(CSV._identity)}, Vector{UInt8}, Int64, Int64, NTuple{4, Symbol}}, io::Any, append::Bool, compress::Bool)\n",
      "   @ CSV ~/.julia/packages/CSV/b8ebJ/src/write.jl:286\n",
      " [5] #write#102\n",
      "   @ ~/.julia/packages/CSV/b8ebJ/src/write.jl:215 [inlined]\n",
      " [6] write(file::String, itr::DataFrame; append::Bool, compress::Bool, writeheader::Nothing, partition::Bool, kw::Base.Pairs{Symbol, Union{}, Tuple{}, NamedTuple{(), Tuple{}}})\n",
      "   @ CSV ~/.julia/packages/CSV/b8ebJ/src/write.jl:199\n",
      " [7] write\n",
      "   @ ~/.julia/packages/CSV/b8ebJ/src/write.jl:162 [inlined]\n",
      " [8] add_synthetic_anomalies(csv_file::String, anomaly_percentage::Float64)\n",
      "   @ Main ~/Developer/julia/main.ipynb:37\n",
      " [9] top-level scope\n",
      "   @ ~/Developer/julia/main.ipynb:4"
     ]
    }
   ],
   "source": [
    "csv_files = readdir(\"csvData\")\n",
    "for csv_file in csv_files\n",
    "    for anomaly_percentage in range(0.05; stop=0.95, step=0.05)\n",
    "        add_synthetic_anomalies(joinpath(\"csvData\", csv_file), anomaly_percentage)\n",
    "    end\n",
    "end\n"
   ]
  },
  {
   "cell_type": "code",
   "execution_count": 48,
   "metadata": {},
   "outputs": [],
   "source": [
    "csv_files = readdir(\"anomalous\")\n",
    "for csv_file in csv_files\n",
    "    df = CSV.read(joinpath(\"anomalous\", csv_file), DataFrame)\n",
    "    # count the number of non-zero values\n",
    "    non_zero_count = count(!iszero, df.anomalies)\n",
    "    \n",
    "    # calculate the proportion of non-zero values to zero values\n",
    "    prop_non_zero = non_zero_count / length(df.anomalies)\n",
    "\n",
    "    # print the result\n",
    "    println(\"Proportion of non-zero values to zero values $csv_file: $prop_non_zero\")\n",
    "end"
   ]
  }
 ],
 "metadata": {
  "kernelspec": {
   "display_name": "Julia 1.8.5",
   "language": "julia",
   "name": "julia-1.8"
  },
  "language_info": {
   "file_extension": ".jl",
   "mimetype": "application/julia",
   "name": "julia",
   "version": "1.8.5"
  },
  "orig_nbformat": 4
 },
 "nbformat": 4,
 "nbformat_minor": 2
}
