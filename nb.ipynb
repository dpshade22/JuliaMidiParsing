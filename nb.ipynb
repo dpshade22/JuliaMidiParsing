{
 "cells": [
  {
   "cell_type": "markdown",
   "id": "81dadef7",
   "metadata": {},
   "source": [
    "# MIDI LOADING"
   ]
  },
  {
   "cell_type": "code",
   "execution_count": 7,
   "id": "bfc736eb",
   "metadata": {},
   "outputs": [],
   "source": [
    "using MIDI, CSV, DataFrames, StatsBase, DataFramesMeta"
   ]
  },
  {
   "cell_type": "code",
   "execution_count": 8,
   "id": "e2fca84c",
   "metadata": {},
   "outputs": [
    {
     "data": {
      "text/plain": [
       "parse_midi_files (generic function with 1 method)"
      ]
     },
     "execution_count": 8,
     "metadata": {},
     "output_type": "execute_result"
    }
   ],
   "source": [
    "function find_midi_files(directory::String)\n",
    "    # Get a list of all the files and directories in the directory\n",
    "    items = readdir(directory)\n",
    "\n",
    "    # Initialize an empty vector to store the MIDI files\n",
    "    midi_files = Vector{String}()\n",
    "\n",
    "    # Loop through each item in the directory\n",
    "    for item in items\n",
    "        # Get the full path to the item\n",
    "        item_path = joinpath(directory, item)\n",
    "\n",
    "        # If the item is a directory, recursively search it for MIDI files\n",
    "        if isdir(item_path)\n",
    "            midi_files = vcat(midi_files, find_midi_files(item_path))\n",
    "            # If the item is a MIDI file, add it to the list\n",
    "        elseif endswith(item, \".mid\") || endswith(item, \".midi\")\n",
    "            push!(midi_files, item_path)\n",
    "        end\n",
    "    end\n",
    "\n",
    "    # Return the list of MIDI files\n",
    "    return midi_files\n",
    "end\n",
    "\n",
    "function parse_midi_file(midi_file::String, output_dir::String)\n",
    "    if midi_file[end] == '/'\n",
    "        midi_file = midi_file[1:end-1]\n",
    "    end\n",
    "\n",
    "    # Parse the MIDI file\n",
    "    midi_data = load(midi_file)\n",
    "\n",
    "    # Initialize empty vectors to store the parsed data\n",
    "    noteNames = []\n",
    "    velocities = []\n",
    "    positions = []\n",
    "    durations = []\n",
    "\n",
    "    for track in midi_data.tracks\n",
    "        # Loop through the MIDI events and extract the relevant data\n",
    "        notes = getnotes(track)\n",
    "        for note in notes\n",
    "            push!(noteNames, note.pitch)\n",
    "            push!(velocities, note.velocity)\n",
    "            push!(positions, note.position)\n",
    "            push!(durations, note.duration)\n",
    "        end\n",
    "    end\n",
    "\n",
    "    # Construct a DataFrame from the parsed data\n",
    "    df = DataFrame(\n",
    "        note=noteNames,\n",
    "        velocity=velocities,\n",
    "        position=positions,\n",
    "        duration=durations\n",
    "    )\n",
    "\n",
    "    # Write the DataFrame to a CSV file\n",
    "    csvName = replace(basename(midi_file)[1:end-4], \".\" => \"_\") * \".csv\"\n",
    "    csv_file = joinpath(output_dir, csvName)\n",
    "    CSV.write(csv_file, df)\n",
    "end\n",
    "\n",
    "function parse_midi_files(midi_dir::String, output_dir::String)\n",
    "    # Get a list of all the MIDI files in the directory\n",
    "    midi_files = find_midi_files(midi_dir)\n",
    "    midi_files = [replace(file, \"\\\\\" => \"/\") for file in midi_files]\n",
    "    # Loop through the MIDI files and parse them\n",
    "    for file in midi_files\n",
    "        try\n",
    "            parse_midi_file(file, output_dir)\n",
    "\n",
    "        catch e\n",
    "            println(e, file)\n",
    "        end\n",
    "    end\n",
    "end"
   ]
  },
  {
   "cell_type": "markdown",
   "id": "50e7ca22",
   "metadata": {},
   "source": [
    "# MIDI PROCESSING / ANOMALY FILE CREATION"
   ]
  },
  {
   "cell_type": "code",
   "execution_count": 9,
   "id": "3b352c03",
   "metadata": {},
   "outputs": [
    {
     "data": {
      "text/plain": [
       "add_anomalous_data (generic function with 1 method)"
      ]
     },
     "execution_count": 9,
     "metadata": {},
     "output_type": "execute_result"
    }
   ],
   "source": [
    "\n",
    "function add_synthetic_anomalies(csv_file::String, anomalous_dir::String, anomaly_percentage::Float64)\n",
    "    # Load the CSV file into a DataFrame\n",
    "    df = CSV.read(csv_file, DataFrame)\n",
    "\n",
    "    # Add a column to track anomalies\n",
    "    df.anomalies = zeros(Int64, size(df, 1))\n",
    "\n",
    "    # Generate a matrix of deviations for each row\n",
    "    num_anomalies = round(Int, size(df, 1) * anomaly_percentage)\n",
    "    deviations = zeros(size(df))\n",
    "\n",
    "    indices = sample(1:size(df, 1), num_anomalies, replace=false)\n",
    "\n",
    "    # Generate random values for each column with the specified probability distributions\n",
    "    for idx in indices\n",
    "        deviations[idx, 1] = rand(vcat(-14:14, zeros(28)))\n",
    "        deviations[idx, 2] = rand(vcat(-40:-20, zeros(40), 20:40))\n",
    "        deviations[idx, 3] = rand(vcat(-500:-50, zeros(900), 50:500))\n",
    "        deviations[idx, 4] = rand(vcat(-100:-50, zeros(1000), 50:1000))\n",
    "    end\n",
    "\n",
    "    # Apply the deviations to the selected rows using broadcasting\n",
    "    df[indices, :] .= df[indices, :] .+ deviations[indices, :]\n",
    "\n",
    "    # Use the map function to count non-zero elements in each row of the selected indices of deviations\n",
    "    non_zero_counts = [length(findall(!iszero, row)) for row in eachrow(deviations[indices, :])]\n",
    "\n",
    "\n",
    "    # Assign the non_zero_counts to the anomalies column of the df DataFrame at the specified indices\n",
    "\n",
    "    df.anomalies[indices] .= non_zero_counts\n",
    "    # Clamp the values between 0 and 127\n",
    "    df[!, [:note, :velocity]] .= clamp.(df[!, [:note, :velocity]], 0, 127)\n",
    "    df .= max.(df, 0)\n",
    "\n",
    "    # Write the DataFrame to the anomalous directory\n",
    "    csv_file_name = splitdir(csv_file)[end][1:end-4]\n",
    "    csv_output_file = joinpath(anomalous_dir, \"$csv_file_name\" * \"_\" * \"$anomaly_percentage.csv\")\n",
    "\n",
    "    CSV.write(csv_output_file, df)\n",
    "end\n",
    "\n",
    "function add_anomalous_data(csv_dir::String, anomalous_dir::String)\n",
    "    csv_files = readdir(csv_dir)\n",
    "    for csv_file in csv_files\n",
    "        for anomaly_percentage in range(0.05; stop=0.95, step=0.05)\n",
    "            add_synthetic_anomalies(joinpath(csv_dir, csv_file), anomalous_dir, anomaly_percentage)\n",
    "        end\n",
    "    end\n",
    "end"
   ]
  },
  {
   "cell_type": "markdown",
   "id": "debfe2e8",
   "metadata": {},
   "source": [
    "# MIDI EXPORT"
   ]
  },
  {
   "cell_type": "code",
   "execution_count": 10,
   "id": "13cff8f5",
   "metadata": {},
   "outputs": [
    {
     "data": {
      "text/plain": [
       "reconstruct_midi_file (generic function with 1 method)"
      ]
     },
     "execution_count": 10,
     "metadata": {},
     "output_type": "execute_result"
    }
   ],
   "source": [
    "\n",
    "function reconstruct_midi_file(csv_file::String, midi_file::String)\n",
    "    # Read the CSV file into a DataFrame\n",
    "    df = CSV.read(csv_file, DataFrame)\n",
    "    df = df[!, [:note, :velocity, :position, :duration]]\n",
    "    # Convert the parsed data into Note objects\n",
    "    notes = Notes()\n",
    "    for i in 1:size(df, 1)\n",
    "        # Calculate the time since the last MIDI event\n",
    "\n",
    "        # Create a Note object for the note-on event\n",
    "        note = Note(df.note[i], df.velocity[i], df.position[i], df.duration[i])\n",
    "        push!(notes, note)\n",
    "\n",
    "        # Update the time counter\n",
    "    end\n",
    "\n",
    "    # Create a MIDI track from the Note objects\n",
    "    track = MIDITrack()\n",
    "    addnotes!(track, notes)\n",
    "    addtrackname!(track, \"reconstructed track\")\n",
    "\n",
    "    # Create a MIDI file from the track\n",
    "    file = MIDIFile()\n",
    "    push!(file.tracks, track)\n",
    "    writeMIDIFile(midi_file, file)\n",
    "end"
   ]
  },
  {
   "cell_type": "code",
   "execution_count": 11,
   "id": "ae4d514a",
   "metadata": {},
   "outputs": [
    {
     "ename": "LoadError",
     "evalue": "ArgumentError: \"assets/anomalous/Undertale - Megalovania_0.95.csv\" is not a valid file or doesn't exist",
     "output_type": "error",
     "traceback": [
      "ArgumentError: \"assets/anomalous/Undertale - Megalovania_0.95.csv\" is not a valid file or doesn't exist",
      "",
      "Stacktrace:",
      " [1] CSV.Context(source::CSV.Arg, header::CSV.Arg, normalizenames::CSV.Arg, datarow::CSV.Arg, skipto::CSV.Arg, footerskip::CSV.Arg, transpose::CSV.Arg, comment::CSV.Arg, ignoreemptyrows::CSV.Arg, ignoreemptylines::CSV.Arg, select::CSV.Arg, drop::CSV.Arg, limit::CSV.Arg, buffer_in_memory::CSV.Arg, threaded::CSV.Arg, ntasks::CSV.Arg, tasks::CSV.Arg, rows_to_check::CSV.Arg, lines_to_check::CSV.Arg, missingstrings::CSV.Arg, missingstring::CSV.Arg, delim::CSV.Arg, ignorerepeated::CSV.Arg, quoted::CSV.Arg, quotechar::CSV.Arg, openquotechar::CSV.Arg, closequotechar::CSV.Arg, escapechar::CSV.Arg, dateformat::CSV.Arg, dateformats::CSV.Arg, decimal::CSV.Arg, truestrings::CSV.Arg, falsestrings::CSV.Arg, stripwhitespace::CSV.Arg, type::CSV.Arg, types::CSV.Arg, typemap::CSV.Arg, pool::CSV.Arg, downcast::CSV.Arg, lazystrings::CSV.Arg, stringtype::CSV.Arg, strict::CSV.Arg, silencewarnings::CSV.Arg, maxwarnings::CSV.Arg, debug::CSV.Arg, parsingdebug::CSV.Arg, validate::CSV.Arg, streaming::CSV.Arg)",
      "   @ CSV C:\\Users\\dpsha\\.julia\\packages\\CSV\\b8ebJ\\src\\context.jl:306",
      " [2] #File#28",
      "   @ C:\\Users\\dpsha\\.julia\\packages\\CSV\\b8ebJ\\src\\file.jl:221 [inlined]",
      " [3] File",
      "   @ C:\\Users\\dpsha\\.julia\\packages\\CSV\\b8ebJ\\src\\file.jl:162 [inlined]",
      " [4] read(source::String, sink::Type; copycols::Bool, kwargs::Base.Pairs{Symbol, Union{}, Tuple{}, NamedTuple{(), Tuple{}}})",
      "   @ CSV C:\\Users\\dpsha\\.julia\\packages\\CSV\\b8ebJ\\src\\CSV.jl:117",
      " [5] read",
      "   @ C:\\Users\\dpsha\\.julia\\packages\\CSV\\b8ebJ\\src\\CSV.jl:113 [inlined]",
      " [6] reconstruct_midi_file(csv_file::String, midi_file::String)",
      "   @ Main .\\In[10]:4",
      " [7] top-level scope",
      "   @ In[11]:3"
     ]
    }
   ],
   "source": [
    "# @time add_anomalous_data(\"assets/csvData\", \"assets/anomalous\")\n",
    "\n",
    "reconstruct_midi_file(\"assets/anomalous/Undertale - Megalovania_0.95.csv\", \"BAD.mid\")\n",
    "reconstruct_midi_file(\"assets/anomalous/Undertale - Megalovania_0.5.csv\", \"GOOD.mid\")"
   ]
  },
  {
   "cell_type": "code",
   "execution_count": null,
   "id": "b929db0f",
   "metadata": {},
   "outputs": [],
   "source": []
  }
 ],
 "metadata": {
  "kernelspec": {
   "display_name": "Julia 1.8.5",
   "language": "julia",
   "name": "julia-1.8"
  },
  "language_info": {
   "file_extension": ".jl",
   "mimetype": "application/julia",
   "name": "julia",
   "version": "1.8.5"
  }
 },
 "nbformat": 4,
 "nbformat_minor": 5
}
