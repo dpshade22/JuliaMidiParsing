{
 "cells": [
  {
   "cell_type": "code",
   "execution_count": 78,
   "metadata": {},
   "outputs": [
    {
     "data": {
      "text/plain": [
       "reconstruct_midi_file (generic function with 1 method)"
      ]
     },
     "execution_count": 78,
     "metadata": {},
     "output_type": "execute_result"
    }
   ],
   "source": [
    "using MLDatasets, Flux\n",
    "using Flux.Data: DataLoader\n",
    "using Statistics\n",
    "include(\"preprocessing.jl\")"
   ]
  },
  {
   "cell_type": "code",
   "execution_count": 85,
   "metadata": {},
   "outputs": [
    {
     "data": {
      "text/plain": [
       "4"
      ]
     },
     "execution_count": 85,
     "metadata": {},
     "output_type": "execute_result"
    }
   ],
   "source": [
    "df = CSV.read(\"assets/anomalous/[ajin_op]_yoru_wa_nemureru_kai_-__flumpool__fonzi_m__0.1.csv\", DataFrame)\n",
    "inputs = Matrix(df[1:500, 1:end-1])\n",
    "outputs = df[1:500, end]\n",
    "# push!(inputs, df[1:500, 1:end-1])\n",
    "size(inputs, 2)\n",
    "# length(outputs[:, 1])"
   ]
  },
  {
   "cell_type": "code",
   "execution_count": 88,
   "metadata": {},
   "outputs": [
    {
     "name": "stdout",
     "output_type": "stream",
     "text": [
      "Base.Iterators.Zip{Tuple{Matrix{Int64}, Vector{Int64}}}\n"
     ]
    }
   ],
   "source": [
    "m = LSTM(4, 25)\n",
    "fd = Dense(25, 1)\n",
    "\n",
    "\n",
    "\n",
    "function loss(seq, ...)\n",
    "    reset!(m)\n",
    "    x = rnn.(seq)[end] # or use map, or just a loop\n",
    "    return fc(x)\n",
    "end"
   ]
  },
  {
   "cell_type": "code",
   "execution_count": 68,
   "metadata": {},
   "outputs": [
    {
     "data": {
      "text/plain": [
       "trainModel! (generic function with 1 method)"
      ]
     },
     "execution_count": 68,
     "metadata": {},
     "output_type": "execute_result"
    }
   ],
   "source": [
    "for batch in data_loader\n",
    "    x_batch, y_batch = batch\n",
    "\n",
    "    # Zero out the gradients of the optimizer\n",
    "    Flux.reset!(optimizer)\n",
    "\n",
    "    # Compute the forward pass of the model\n",
    "    ŷ = model(x_batch)\n",
    "\n",
    "    # Compute the loss function\n",
    "    loss_value = loss_fn(ŷ, y_batch)\n",
    "\n",
    "    # Compute the gradients of the loss function\n",
    "    grads = gradient(() -> loss_value, params(model))\n",
    "\n",
    "    # Update the parameters of the model using the optimizer\n",
    "    Flux.update!(optimizer, params(model), grads)\n",
    "end\n"
   ]
  },
  {
   "cell_type": "code",
   "execution_count": 69,
   "metadata": {},
   "outputs": [
    {
     "ename": "LoadError",
     "evalue": "MethodError: no method matching (::Conv{3, 6, typeof(relu), Array{Float32, 5}, Vector{Float32}})(::Int64)\n\u001b[0mClosest candidates are:\n\u001b[0m  (::Conv)(\u001b[91m::AbstractArray\u001b[39m) at C:\\Users\\dpsha\\.julia\\packages\\Flux\\Nzh8J\\src\\layers\\conv.jl:197",
     "output_type": "error",
     "traceback": [
      "MethodError: no method matching (::Conv{3, 6, typeof(relu), Array{Float32, 5}, Vector{Float32}})(::Int64)\n\u001b[0mClosest candidates are:\n\u001b[0m  (::Conv)(\u001b[91m::AbstractArray\u001b[39m) at C:\\Users\\dpsha\\.julia\\packages\\Flux\\Nzh8J\\src\\layers\\conv.jl:197",
      "",
      "Stacktrace:",
      "  [1] macro expansion",
      "    @ C:\\Users\\dpsha\\.julia\\packages\\Zygote\\TSj5C\\src\\compiler\\interface2.jl:0 [inlined]",
      "  [2] _pullback(ctx::Zygote.Context{true}, f::Conv{3, 6, typeof(relu), Array{Float32, 5}, Vector{Float32}}, args::Int64)",
      "    @ Zygote C:\\Users\\dpsha\\.julia\\packages\\Zygote\\TSj5C\\src\\compiler\\interface2.jl:9",
      "  [3] macro expansion",
      "    @ C:\\Users\\dpsha\\.julia\\packages\\Flux\\Nzh8J\\src\\layers\\basic.jl:53 [inlined]",
      "  [4] _pullback",
      "    @ C:\\Users\\dpsha\\.julia\\packages\\Flux\\Nzh8J\\src\\layers\\basic.jl:53 [inlined]",
      "  [5] _pullback(::Zygote.Context{true}, ::typeof(Flux._applychain), ::Tuple{Conv{3, 6, typeof(relu), Array{Float32, 5}, Vector{Float32}}, Dense{typeof(relu), Matrix{Float32}, Vector{Float32}}}, ::Int64)",
      "    @ Zygote C:\\Users\\dpsha\\.julia\\packages\\Zygote\\TSj5C\\src\\compiler\\interface2.jl:0",
      "  [6] _pullback",
      "    @ C:\\Users\\dpsha\\.julia\\packages\\Flux\\Nzh8J\\src\\layers\\basic.jl:51 [inlined]",
      "  [7] _pullback(ctx::Zygote.Context{true}, f::Flux.Chain{Tuple{Conv{3, 6, typeof(relu), Array{Float32, 5}, Vector{Float32}}, Dense{typeof(relu), Matrix{Float32}, Vector{Float32}}}}, args::Int64)",
      "    @ Zygote C:\\Users\\dpsha\\.julia\\packages\\Zygote\\TSj5C\\src\\compiler\\interface2.jl:0",
      "  [8] _pullback",
      "    @ .\\In[67]:6 [inlined]",
      "  [9] _pullback(::Zygote.Context{true}, ::typeof(loss), ::Int64, ::Int64)",
      "    @ Zygote C:\\Users\\dpsha\\.julia\\packages\\Zygote\\TSj5C\\src\\compiler\\interface2.jl:0",
      " [10] _apply",
      "    @ .\\boot.jl:816 [inlined]",
      " [11] adjoint",
      "    @ C:\\Users\\dpsha\\.julia\\packages\\Zygote\\TSj5C\\src\\lib\\lib.jl:203 [inlined]",
      " [12] _pullback",
      "    @ C:\\Users\\dpsha\\.julia\\packages\\ZygoteRules\\OgCVT\\src\\adjoint.jl:66 [inlined]",
      " [13] _pullback",
      "    @ .\\In[68]:5 [inlined]",
      " [14] _pullback(::Zygote.Context{true}, ::var\"#15#16\"{Tuple{Int64, Int64}})",
      "    @ Zygote C:\\Users\\dpsha\\.julia\\packages\\Zygote\\TSj5C\\src\\compiler\\interface2.jl:0",
      " [15] pullback(f::Function, ps::Zygote.Params{Zygote.Buffer{Any, Vector{Any}}})",
      "    @ Zygote C:\\Users\\dpsha\\.julia\\packages\\Zygote\\TSj5C\\src\\compiler\\interface.jl:384",
      " [16] gradient(f::Function, args::Zygote.Params{Zygote.Buffer{Any, Vector{Any}}})",
      "    @ Zygote C:\\Users\\dpsha\\.julia\\packages\\Zygote\\TSj5C\\src\\compiler\\interface.jl:96",
      " [17] trainModel!(m::Flux.Chain{Tuple{Conv{3, 6, typeof(relu), Array{Float32, 5}, Vector{Float32}}, Dense{typeof(relu), Matrix{Float32}, Vector{Float32}}}}, data::Base.Iterators.Zip{Tuple{Matrix{Int64}, Vector{Int64}}}; epochs::Int64)",
      "    @ Main .\\In[68]:4",
      " [18] top-level scope",
      "    @ In[69]:1"
     ]
    }
   ],
   "source": [
    "trainModel!(m, train_data; epochs=10)"
   ]
  },
  {
   "cell_type": "code",
   "execution_count": null,
   "metadata": {},
   "outputs": [],
   "source": []
  },
  {
   "cell_type": "code",
   "execution_count": null,
   "metadata": {},
   "outputs": [],
   "source": []
  }
 ],
 "metadata": {
  "kernelspec": {
   "display_name": "Julia 1.8.5",
   "language": "julia",
   "name": "julia-1.8"
  },
  "language_info": {
   "file_extension": ".jl",
   "mimetype": "application/julia",
   "name": "julia",
   "version": "1.8.5"
  },
  "orig_nbformat": 4
 },
 "nbformat": 4,
 "nbformat_minor": 2
}
